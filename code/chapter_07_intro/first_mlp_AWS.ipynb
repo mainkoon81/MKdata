{
 "cells": [
  {
   "cell_type": "markdown",
   "metadata": {
    "deletable": true,
    "editable": true
   },
   "source": [
    "## Pima Indians Onset of Diabetes Dataset\n",
    "- Load Data.\n",
    "- Deﬁne Model.\n",
    "- Compile Model.\n",
    "- Fit Model.\n",
    "- Evaluate Model.\n",
    "\n",
    "Tie It All Together\n",
    "\n",
    "This is a standard machine learning dataset available for free download from the UCI Machine Learning repository. It describes patient medical record data for Pima Indians and whether they had an **onset of diabetes** within ﬁve years. It is a binary classiﬁcation problem (onset of diabetes as 1 or not as 0). The input variables that describe each patient are numerical and have varying scales.\n",
    "\n",
    "> the eight attributes for the dataset\n",
    "- Number of times pregnant.\n",
    "- Plasma glucose concentration a 2 hours in an oral glucose tolerance test.\n",
    "- Diastolic blood pressure (mm Hg).\n",
    "- Triceps skin fold thickness (mm).\n",
    "- 2-Hour serum insulin (mu U/ml).\n",
    "- Body mass index.\n",
    "- Diabetes pedigree function.\n",
    "- Age (years).\n",
    "- **Class, onset of diabetes within ﬁve years.**\n",
    "\n",
    "Given that all attributes are numerical makes it easy to use directly with neural networks that expect numerical inputs and output values, and ideal for our ﬁrst neural network in Keras. \n",
    "\n",
    "The baseline accuracy if all predictions are made as **no onset of diabetes** is 65.1%. **Top results** on the dataset are in the range of 77.7% accuracy using 10-fold cross-validation."
   ]
  },
  {
   "cell_type": "code",
   "execution_count": null,
   "metadata": {
    "collapsed": false,
    "deletable": true,
    "editable": true
   },
   "outputs": [],
   "source": [
    "# Create your first MLP in Keras\n",
    "from keras.models import Sequential\n",
    "from keras.layers import Dense\n",
    "import numpy as np\n",
    "# fix random seed for reproducibility- Whenever we work with machine learning algorithms that use a stochastic process \n",
    "#(e.g. random numbers), it is a good idea to initialize the random number generator with a ﬁxed seed value. This is useful if \n",
    "#you need to demonstrate a result, compare algorithms using the same source of randomness or to debug a part of your code.\n",
    "np.random.seed(47)"
   ]
  },
  {
   "cell_type": "code",
   "execution_count": null,
   "metadata": {
    "collapsed": false,
    "deletable": true,
    "editable": true
   },
   "outputs": [],
   "source": [
    "# load pima indians dataset with pandas\n",
    "import pandas as pd\n",
    "dataset = pd.read_csv(\"pima-indians-diabetes.csv\", header=None)\n",
    "dataset.head()"
   ]
  },
  {
   "cell_type": "code",
   "execution_count": null,
   "metadata": {
    "collapsed": false,
    "deletable": true,
    "editable": true
   },
   "outputs": [],
   "source": [
    "# load pima indians dataset w/o pandas \n",
    "dataset = np.loadtxt(\"pima-indians-diabetes.csv\", delimiter=\",\")\n",
    "# split into input (X) and output (Y) variables\n",
    "X = dataset[:,0:8]\n",
    "Y = dataset[:,8]"
   ]
  },
  {
   "cell_type": "code",
   "execution_count": null,
   "metadata": {
    "collapsed": false,
    "deletable": true,
    "editable": true
   },
   "outputs": [],
   "source": [
    "X, Y"
   ]
  },
  {
   "cell_type": "markdown",
   "metadata": {
    "deletable": true,
    "editable": true
   },
   "source": [
    "### Models in Keras are deﬁned as a **sequence of layers**. \n",
    "\n",
    "We create a **Sequential model** and add layers one at a time until we are happy with our network topology. \n",
    "- a> The ﬁrst thing to get right is to ensure the **input layer** has the right number of **inputs**.\n",
    "  - Create the first layer with **\"input_dim\"** argument and setting it to 8 for the 8 input variables. \n",
    "  \n",
    "How do we know the number of layers to use and their types? This is a very hard question. There are heuristics that we can use and often the best network structure is found through a process of trial and error experimentation. Generally, you need a network large enough to capture the structure of the problem if that helps at all. \n",
    "\n",
    "- b> In this example we will use a fully-connected network structure with three layers. \n",
    "  - Fully connected layers are deﬁned using the **Dense()** class.\n",
    "  - specify the number of neurons(nodes) in the layer\n",
    "  - specify the activation function(It used to be the case that **sigmoid** and **tanh** functions were preferred for all layers)\n",
    "  - We use a sigmoid activation on the output layer to ensure our network output is easy to map to either a probability of class 1 or snap to a hard classiﬁcation of either class with a default threshold of 0.5. \n",
    "  - We can piece it all together by adding each layer-**add()**. \n",
    "\n",
    "The ﬁrst hidden layer has 12 neurons and expects 8 input variables (e.g. input dim=8). The second hidden layer has 8 neurons and ﬁnally the output layer has 1 neuron to predict the class (onset of diabetes or not)."
   ]
  },
  {
   "cell_type": "code",
   "execution_count": null,
   "metadata": {
    "collapsed": true,
    "deletable": true,
    "editable": true
   },
   "outputs": [],
   "source": [
    "# create model\n",
    "model = Sequential()\n",
    "model.add(Dense(12, input_dim=8, activation='relu'))\n",
    "model.add(Dense(8, activation='relu'))\n",
    "model.add(Dense(1, activation='sigmoid'))"
   ]
  },
  {
   "cell_type": "markdown",
   "metadata": {
    "deletable": true,
    "editable": true
   },
   "source": [
    "### Compiling the model uses the eﬃcient numerical libraries under the covers (the so-called backend) such as Theano or TensorFlow. \n",
    "\n",
    "The backend automatically chooses the best way to represent the network for training and making predictions to run on your hardware. When compiling, we must specify some **additional properties** required when training the network. \n",
    "- Remember **training a network** means ﬁnding the best set of **weights** to make predictions for this problem \n",
    "  - specify the **loss function** to evaluate a set of weights. \n",
    "  - specify the **optimizer** to search through diﬀerent weights for the network.  \n",
    "  - specify any optional **metrics** we would like to collect and report during training. \n",
    "\n",
    "In this case we will use **logarithmic loss function**, which for a binary classiﬁcation problem is deﬁned in Keras as 'binary crossentropy'. We will also use the efficient gradient descent algorithm 'adam' for no other reason that it is an efficient default. Finally, because it is a classiﬁcation problem, we will collect and report the classiﬁcation 'accuracy' as the metric."
   ]
  },
  {
   "cell_type": "code",
   "execution_count": null,
   "metadata": {
    "collapsed": true,
    "deletable": true,
    "editable": true
   },
   "outputs": [],
   "source": [
    "# Compile model\n",
    "model.compile(loss='binary_crossentropy', optimizer='adam', metrics=['accuracy'])"
   ]
  },
  {
   "cell_type": "markdown",
   "metadata": {
    "deletable": true,
    "editable": true
   },
   "source": [
    "### The training process \n",
    "This is where the work happens on your CPU or GPU.\n",
    "\n",
    "- It will run for a ﬁxed number of iterations through the dataset called **epochs**, that we must specify using the epochs argument. \n",
    "- We can also set the number of instances evaluated before a weight update in the network is performed called the **batch size** and set using the batch size argument. \n",
    "\n",
    "For this problem we will run for a small number of epochs (150) and use a relatively small batch size of 10. Again, these can be chosen experimentally by trial and error. "
   ]
  },
  {
   "cell_type": "code",
   "execution_count": null,
   "metadata": {
    "collapsed": false,
    "deletable": true,
    "editable": true
   },
   "outputs": [],
   "source": [
    "# Fit the model\n",
    "model.fit(X, Y, epochs=150, batch_size=10)"
   ]
  },
  {
   "cell_type": "markdown",
   "metadata": {
    "deletable": true,
    "editable": true
   },
   "source": [
    "### Evaluation\n",
    "We can evaluate the performance of the network on the same dataset. This will only give us an idea of how well we have modeled the dataset (e.g. train accuracy), but no idea of how well the algorithm might perform on new data. We have done this for simplicity, but ideally, you could **separate your data into train and test datasets for the training and evaluation of your model.** \n",
    "\n",
    "You can evaluate your model on your training dataset using the evaluation() function on your model and pass it the same input and output used to train the model. This will generate a prediction for each input and output pair and collect scores, including the average loss and any metrics you have conﬁgured, such as accuracy."
   ]
  },
  {
   "cell_type": "code",
   "execution_count": null,
   "metadata": {
    "collapsed": false,
    "deletable": true,
    "editable": true
   },
   "outputs": [],
   "source": [
    "# evaluate the model\n",
    "scores = model.evaluate(X, Y)\n",
    "print(\"\\n%s: %.2f%%\" % (model.metrics_names[1], scores[1]*100))"
   ]
  },
  {
   "cell_type": "code",
   "execution_count": null,
   "metadata": {
    "collapsed": true,
    "deletable": true,
    "editable": true
   },
   "outputs": [],
   "source": []
  }
 ],
 "metadata": {
  "kernelspec": {
   "display_name": "Python 3",
   "language": "python",
   "name": "python3"
  },
  "language_info": {
   "codemirror_mode": {
    "name": "ipython",
    "version": 3
   },
   "file_extension": ".py",
   "mimetype": "text/x-python",
   "name": "python",
   "nbconvert_exporter": "python",
   "pygments_lexer": "ipython3",
   "version": "3.5.4"
  }
 },
 "nbformat": 4,
 "nbformat_minor": 2
}
