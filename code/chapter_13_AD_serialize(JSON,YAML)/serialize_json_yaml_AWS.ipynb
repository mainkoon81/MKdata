{
 "cells": [
  {
   "cell_type": "markdown",
   "metadata": {
    "collapsed": true,
    "deletable": true,
    "editable": true
   },
   "source": [
    "# Save Your Models For Later With Serialization\n",
    "Given that deep learning models can take hours, days and even weeks to train, it is important to know how to save and load them from disk. Discover how you can save your Keras models to file and load them up again to make predictions. \n",
    "- save and load Keras **model weights** to HDF5 formatted ﬁles\n",
    "  - Model weights are saved to **HDF5** format. This is a grid format that is ideal for storing multi-dimensional arrays of numbers.\n",
    "- save and load Keras **model structure** to JSON ﬁles\n",
    "- save and load Keras **model structure** to YAML ﬁles\n",
    "\n",
    "The Hierarchical Data Format or HDF5 for short is a ﬂexible data storage format and is convenient for storing large arrays of real values, as we have in the weights of neural networks. You may need to install Python support for the HDF5 ﬁle format. You can do this using your preferred Python package management system such as \"sudo pip install h5py\"\n"
   ]
  },
  {
   "cell_type": "code",
   "execution_count": 1,
   "metadata": {
    "collapsed": false,
    "deletable": true,
    "editable": true
   },
   "outputs": [
    {
     "name": "stdout",
     "output_type": "stream",
     "text": [
      "Requirement already satisfied: h5py in c:\\users\\minkun\\appdata\\local\\enthought\\canopy\\user\\lib\\site-packages (2.8.0)\n",
      "Requirement already satisfied: six in c:\\users\\minkun\\appdata\\local\\enthought\\canopy\\user\\lib\\site-packages (from h5py) (1.10.0)\n",
      "Requirement already satisfied: numpy>=1.7 in c:\\users\\minkun\\appdata\\local\\enthought\\canopy\\user\\lib\\site-packages (from h5py) (1.13.3)\n"
     ]
    }
   ],
   "source": [
    "!pip install h5py"
   ]
  },
  {
   "cell_type": "markdown",
   "metadata": {
    "collapsed": true,
    "deletable": true,
    "editable": true
   },
   "source": [
    "### Save to JSON\n",
    "JSON is a simple ﬁle format for describing data hierarchically. Keras provides the ability to describe any model using JSON format with a **`to_json()`** function. This can be saved to ﬁle and later loaded via the **`model_from_json()`** function that will create a new model from the JSON speciﬁcation. \n",
    "\n",
    "The **weights** are saved directly from the model using the **`save_weights()`** function and later loaded using the symmetrical **`load_weights()`** function. \n",
    "\n",
    "In this example, the model structure is converted to JSON format and written to **model.json** in the local directory. The network weights are written to **model.h5** in the local directory. The **model** and **weight** data is loaded from the saved ﬁles and a new model is created. It is important to **compile the loaded model before it is used**. This is so that predictions made using the model can use the appropriate eﬃcient computation from the Keras backend. The model is evaluated in the same way printing the same evaluation score."
   ]
  },
  {
   "cell_type": "code",
   "execution_count": 30,
   "metadata": {
    "collapsed": false,
    "deletable": true,
    "editable": true
   },
   "outputs": [
    {
     "data": {
      "text/html": [
       "<div>\n",
       "<table border=\"1\" class=\"dataframe\">\n",
       "  <thead>\n",
       "    <tr style=\"text-align: right;\">\n",
       "      <th></th>\n",
       "      <th>0</th>\n",
       "      <th>1</th>\n",
       "      <th>2</th>\n",
       "      <th>3</th>\n",
       "      <th>4</th>\n",
       "      <th>5</th>\n",
       "      <th>6</th>\n",
       "      <th>7</th>\n",
       "      <th>8</th>\n",
       "    </tr>\n",
       "  </thead>\n",
       "  <tbody>\n",
       "    <tr>\n",
       "      <th>0</th>\n",
       "      <td>6</td>\n",
       "      <td>148</td>\n",
       "      <td>72</td>\n",
       "      <td>35</td>\n",
       "      <td>0</td>\n",
       "      <td>33.6</td>\n",
       "      <td>0.627</td>\n",
       "      <td>50</td>\n",
       "      <td>1</td>\n",
       "    </tr>\n",
       "    <tr>\n",
       "      <th>1</th>\n",
       "      <td>1</td>\n",
       "      <td>85</td>\n",
       "      <td>66</td>\n",
       "      <td>29</td>\n",
       "      <td>0</td>\n",
       "      <td>26.6</td>\n",
       "      <td>0.351</td>\n",
       "      <td>31</td>\n",
       "      <td>0</td>\n",
       "    </tr>\n",
       "  </tbody>\n",
       "</table>\n",
       "</div>"
      ],
      "text/plain": [
       "   0    1   2   3  4     5      6   7  8\n",
       "0  6  148  72  35  0  33.6  0.627  50  1\n",
       "1  1   85  66  29  0  26.6  0.351  31  0"
      ]
     },
     "execution_count": 30,
     "metadata": {},
     "output_type": "execute_result"
    }
   ],
   "source": [
    "import numpy as np\n",
    "import pandas as pd\n",
    "from keras.models import Sequential\n",
    "from keras.layers import Dense\n",
    "\n",
    "from keras.models import model_from_json\n",
    "from keras.models import model_from_yaml\n",
    "\n",
    "np.random.seed(47)\n",
    "df = pd.read_csv('pima-indians-diabetes.csv', header=None); df.head(2)"
   ]
  },
  {
   "cell_type": "code",
   "execution_count": 24,
   "metadata": {
    "collapsed": false,
    "deletable": true,
    "editable": true
   },
   "outputs": [
    {
     "data": {
      "text/plain": [
       "(768, 9)"
      ]
     },
     "execution_count": 24,
     "metadata": {},
     "output_type": "execute_result"
    }
   ],
   "source": [
    "data = df.values\n",
    "X = data[:, 0:8]\n",
    "y = data[:, -1]\n",
    "\n",
    "df.shape"
   ]
  },
  {
   "cell_type": "code",
   "execution_count": 7,
   "metadata": {
    "collapsed": false,
    "deletable": true,
    "editable": true
   },
   "outputs": [
    {
     "name": "stdout",
     "output_type": "stream",
     "text": [
      "acc: 0.79\n"
     ]
    }
   ],
   "source": [
    "# Create & compile the model\n",
    "model = Sequential()\n",
    "model.add(Dense(12, input_dim=8, activation='relu', kernel_initializer='uniform'))\n",
    "model.add(Dense(8, activation='relu', kernel_initializer='uniform'))\n",
    "model.add(Dense(1, activation='sigmoid', kernel_initializer='uniform'))\n",
    "model.compile(loss='binary_crossentropy', optimizer='adam', metrics=['accuracy'])\n",
    "\n",
    "#fit on the data\n",
    "model.fit(X, y, epochs=150, batch_size=10, verbose=0)\n",
    "\n",
    "#evaluate the model\n",
    "scores = model.evaluate(X, y, verbose=0)\n",
    "print('%s: %.2f' %(model.metrics_names[1], scores[1]))"
   ]
  },
  {
   "cell_type": "code",
   "execution_count": 17,
   "metadata": {
    "collapsed": false,
    "deletable": true,
    "editable": true
   },
   "outputs": [],
   "source": [
    "# Serialize model to JSON\n",
    "model_j = model.to_json() ########### create 'json-version' of our model\n",
    "\n",
    "with open('model.json', 'w') as json_file: # take our 'json-version' model and save it as 'model.json' in our local PC. \n",
    "    json_file.write(model_j) "
   ]
  },
  {
   "cell_type": "code",
   "execution_count": 18,
   "metadata": {
    "collapsed": false
   },
   "outputs": [
    {
     "name": "stdout",
     "output_type": "stream",
     "text": [
      "saved model to my local machine\n"
     ]
    }
   ],
   "source": [
    "# Serialize weights to HDF5\n",
    "model.save_weights('model.h5') #####\n",
    "print('saved model to my local machine')"
   ]
  },
  {
   "cell_type": "code",
   "execution_count": 20,
   "metadata": {
    "collapsed": false
   },
   "outputs": [
    {
     "name": "stdout",
     "output_type": "stream",
     "text": [
      "loaded model from my local machine\n"
     ]
    }
   ],
   "source": [
    "### let's create new model by loading json_model then load weights into the new model..\n",
    "json_file = open('model.json', 'r')\n",
    "loaded_j_model = json_file.read()\n",
    "json_file.close()\n",
    "\n",
    "loaded_model = model_from_json(loaded_j_model) ########### open 'json-version' of our model\n",
    "loaded_model.load_weights('model.h5') #####\n",
    "print('loaded model from my local machine')"
   ]
  },
  {
   "cell_type": "code",
   "execution_count": 23,
   "metadata": {
    "collapsed": false
   },
   "outputs": [
    {
     "name": "stdout",
     "output_type": "stream",
     "text": [
      "768/768 [==============================] - 0s 192us/step\b\b\b\b\b\b\b\b\b\b\b\b\b\b\b\b\b\b\b\b\b\b\b\b\b\b\b\b\b\b\b\b\b\b\b\b\b\b\b\b\b\b\b\b\n",
      "acc: 0.79\n"
     ]
    }
   ],
   "source": [
    "# evaluate our 'loaded model' on test data\n",
    "loaded_model.compile(loss='binary_crossentropy', optimizer='rmsprop', metrics=['accuracy'])\n",
    "score = loaded_model.evaluate(X, y, verbose=1)\n",
    "\n",
    "print(\"%s: %.2f\" % (loaded_model.metrics_names[1], score[1]))"
   ]
  },
  {
   "cell_type": "markdown",
   "metadata": {},
   "source": [
    "It shows so far ﬁrst the accuracy (0.79) of the trained model, the saving of the model to disk in JSON format, the loading of the model and ﬁnally the re-evaluation of the loaded model achieving the same accuracy(0.79).\n"
   ]
  },
  {
   "cell_type": "code",
   "execution_count": null,
   "metadata": {
    "collapsed": true
   },
   "outputs": [],
   "source": []
  },
  {
   "cell_type": "markdown",
   "metadata": {},
   "source": [
    "### Save To YAML\n",
    "This example is much the same as the above JSON example, except the YAML format is used for the model speciﬁcation. The model is described using YAML, saved to ﬁle 'model.yaml' and later loaded into a new model via the **`model_from_yaml()`** function. Weights are handled in the same way as above in HDF5 format as 'model.h5'."
   ]
  },
  {
   "cell_type": "code",
   "execution_count": 25,
   "metadata": {
    "collapsed": true,
    "deletable": true,
    "editable": true
   },
   "outputs": [],
   "source": [
    "# Serialize model to YAML\n",
    "model_yy = model.to_yaml() ########### create 'json-version' of our model\n",
    "\n",
    "with open('model.yaml', 'w') as yaml_file: # take our 'json-version' model and save it as 'model.json' in our local PC. \n",
    "    yaml_file.write(model_yy) "
   ]
  },
  {
   "cell_type": "code",
   "execution_count": 26,
   "metadata": {
    "collapsed": false,
    "deletable": true,
    "editable": true
   },
   "outputs": [
    {
     "name": "stdout",
     "output_type": "stream",
     "text": [
      "saved model to my local machine\n"
     ]
    }
   ],
   "source": [
    "# Serialize weights to HDF5\n",
    "model.save_weights('model.h5') #####\n",
    "print('saved model to my local machine')"
   ]
  },
  {
   "cell_type": "code",
   "execution_count": 31,
   "metadata": {
    "collapsed": false
   },
   "outputs": [
    {
     "name": "stdout",
     "output_type": "stream",
     "text": [
      "loaded model from my local machine\n"
     ]
    }
   ],
   "source": [
    "### let's create new model by loading model.yaml then load weights into the new model..\n",
    "yaml_file = open('model.yaml', 'r')\n",
    "loaded_y_model = yaml_file.read()\n",
    "yaml_file.close()\n",
    "\n",
    "loaded_model = model_from_yaml(loaded_y_model) ########### open 'json-version' of our model\n",
    "loaded_model.load_weights('model.h5') #####\n",
    "print('loaded model from my local machine')"
   ]
  },
  {
   "cell_type": "code",
   "execution_count": 32,
   "metadata": {
    "collapsed": false
   },
   "outputs": [
    {
     "name": "stdout",
     "output_type": "stream",
     "text": [
      "768/768 [==============================] - 0s 164us/step\b\b\b\b\b\b\b\b\b\b\b\b\b\b\b\b\b\b\b\b\b\b\b\b\b\b\b\b\b\b\b\b\b\b\b\b\b\b\b\b\b\b\b\b\n",
      "acc: 0.79\n"
     ]
    }
   ],
   "source": [
    "# evaluate our 'loaded model' on test data\n",
    "loaded_model.compile(loss='binary_crossentropy', optimizer='rmsprop', metrics=['accuracy'])\n",
    "score = loaded_model.evaluate(X, y, verbose=1)\n",
    "\n",
    "print(\"%s: %.2f\" % (loaded_model.metrics_names[1], score[1]))"
   ]
  },
  {
   "cell_type": "code",
   "execution_count": null,
   "metadata": {
    "collapsed": true
   },
   "outputs": [],
   "source": []
  }
 ],
 "metadata": {
  "kernelspec": {
   "display_name": "Python 3",
   "language": "python",
   "name": "python3"
  },
  "language_info": {
   "codemirror_mode": {
    "name": "ipython",
    "version": 3
   },
   "file_extension": ".py",
   "mimetype": "text/x-python",
   "name": "python",
   "nbconvert_exporter": "python",
   "pygments_lexer": "ipython3",
   "version": "3.5.4"
  }
 },
 "nbformat": 4,
 "nbformat_minor": 2
}
